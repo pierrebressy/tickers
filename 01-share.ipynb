{
 "cells": [
  {
   "cell_type": "markdown",
   "metadata": {},
   "source": [
    "# Notebook for tickers data processing\n",
    "\n",
    "- use a list of tickers to process from a text file tickers.txt ; the content of this text file is a list of tickers, one per line, obtained with finviz.com screener (see readme.md for more details),\n",
    "- read the tickers data (date+closing) from the yahoo finance python API,\n",
    "- save the tickers data to pickle files (one per ticker) for a quicker access,\n",
    "- create a graph for each ticker with the closing price over time, SMA20, SMA50, SMA200 and save it to a png file (one per ticker),\n",
    "- analyse each graph and keep only the tickers that are interesting for further analysis :\n",
    "    - price up for one year,\n",
    "    - SMA20 up for one year,\n",
    "    - SMA50 up for one year,\n",
    "    - SMA200 up for one year,\n",
    "    - min_price <= last price <= max_price.\n",
    "- display a graph for the kept tickers with the closing price over time, SMA20, SMA50, SMA200 and annualized historical volatility."
   ]
  },
  {
   "cell_type": "code",
   "execution_count": 55,
   "metadata": {
    "ExecuteTime": {
     "end_time": "2023-11-03T14:12:09.517413900Z",
     "start_time": "2023-11-03T14:12:09.513318600Z"
    }
   },
   "outputs": [],
   "source": [
    "import numpy as np\n",
    "from tqdm import tqdm\n",
    "import yfinance as yf\n",
    "from matplotlib import pyplot as plt\n",
    "import pandas as pd"
   ]
  },
  {
   "cell_type": "markdown",
   "metadata": {},
   "source": [
    "## Parameters"
   ]
  },
  {
   "cell_type": "code",
   "execution_count": 56,
   "metadata": {
    "ExecuteTime": {
     "end_time": "2023-11-03T14:12:11.087384700Z",
     "start_time": "2023-11-03T14:12:11.083962400Z"
    }
   },
   "outputs": [],
   "source": [
    "# historical data range\n",
    "historical_range_start = '2021-01-03'\n",
    "historical_range_end='2023-10-26'\n",
    "\n",
    "# price limits to keep ticker\n",
    "max_price = 100\n",
    "min_price = 0"
   ]
  },
  {
   "cell_type": "markdown",
   "metadata": {},
   "source": [
    "## Constants"
   ]
  },
  {
   "cell_type": "code",
   "execution_count": 57,
   "metadata": {
    "ExecuteTime": {
     "end_time": "2023-11-03T14:12:13.641735100Z",
     "start_time": "2023-11-03T14:12:13.635300700Z"
    }
   },
   "outputs": [],
   "source": [
    "# file parameters\n",
    "ticker_file = 'params/tickers.txt'\n",
    "data_path = 'data/'\n",
    "image_path = 'images/'\n",
    "pkl_ext = '.pkl'\n",
    "png_ext = '.png'\n",
    "\n",
    "# number of days to consider for the moving average\n",
    "index_12m = -252\n",
    "index_6m = -128\n",
    "index_3m = -66\n",
    "index_1m = -23\n",
    "index_now = -1\n"
   ]
  },
  {
   "cell_type": "markdown",
   "metadata": {},
   "source": [
    "# Get the list of tickers to process from the file tickers.txt\n"
   ]
  },
  {
   "cell_type": "code",
   "execution_count": 58,
   "metadata": {
    "ExecuteTime": {
     "end_time": "2023-11-03T14:12:16.709482700Z",
     "start_time": "2023-11-03T14:12:16.701941100Z"
    }
   },
   "outputs": [
    {
     "name": "stdout",
     "output_type": "stream",
     "text": [
      "562 tickers in list.\n",
      "['A' 'AAPL' 'ABEV' 'ABT'] ... ['YUMC' 'ZBH' 'ZTO' 'ZTS']\n"
     ]
    }
   ],
   "source": [
    "tickers_list = np.loadtxt(ticker_file, dtype=str)\n",
    "print(len(tickers_list), 'tickers in list.')\n",
    "print(tickers_list[:4], '...', tickers_list[-4:])"
   ]
  },
  {
   "cell_type": "markdown",
   "metadata": {},
   "source": [
    "# Read the historical data for the tickers from the file tickers.txt \n",
    "- save in pickle format\n",
    "\n",
    "Update the historical_range_start and historical_range_end dates then run this cell.\n",
    "\n",
    "Information: it takes several minutes (approx. 6') to get all data from yahoo finance."
   ]
  },
  {
   "cell_type": "code",
   "execution_count": null,
   "metadata": {},
   "outputs": [],
   "source": [
    "for ticker in tickers_list:\n",
    "    tk = yf.Ticker(ticker)\n",
    "    data = tk.history(\n",
    "        interval='1d', start=historical_range_start, end=historical_range_end)\n",
    "    data.head()\n",
    "    filename = data_path+ticker+pkl_ext\n",
    "    data.to_pickle(filename)\n",
    "    print('Saved', filename)\n",
    "\n",
    "# We may could use yf.download() but columns a slightly different ?\n",
    "# data = yf.download(\n",
    "#     # tickers=tickers_list[:list_size],  # Must be bugged\n",
    "#     tickers=' '.join(tickers_list[:list_size]),\n",
    "#     threads=True,\n",
    "#     group_by='ticker',\n",
    "#     start=historical_range_start, end=historical_range_end\n",
    "# )\n"
   ]
  },
  {
   "cell_type": "markdown",
   "metadata": {},
   "source": [
    "# Load the historical data for the tickers from the files\n",
    "- read from pickle format"
   ]
  },
  {
   "cell_type": "code",
   "execution_count": 59,
   "metadata": {
    "ExecuteTime": {
     "end_time": "2023-11-03T14:12:49.836848100Z",
     "start_time": "2023-11-03T14:12:47.521062800Z"
    }
   },
   "outputs": [
    {
     "name": "stderr",
     "output_type": "stream",
     "text": [
      "100%|██████████| 562/562 [00:02<00:00, 244.91it/s] \n"
     ]
    }
   ],
   "source": [
    "data = {}\n",
    "for ticker in tqdm(tickers_list):\n",
    "    filename = data_path+ticker+pkl_ext\n",
    "    d = pd.read_pickle(filename)\n",
    "    # print('Read', filename)\n",
    "    data[ticker]=d\n",
    "    "
   ]
  },
  {
   "cell_type": "markdown",
   "metadata": {},
   "source": [
    "# Graph all tickers and save as PNG image\n",
    "\n",
    "- closing price\n",
    "- SMA20,\n",
    "- SMA50,\n",
    "- SMA200.\n",
    "\n",
    "Information: it takes several minutes (approx. 3') to save all figures."
   ]
  },
  {
   "cell_type": "code",
   "execution_count": 51,
   "metadata": {
    "ExecuteTime": {
     "end_time": "2023-11-03T14:09:14.338902100Z",
     "start_time": "2023-11-03T14:07:59.279708400Z"
    }
   },
   "outputs": [
    {
     "name": "stderr",
     "output_type": "stream",
     "text": [
      "100%|██████████| 563/563 [01:15<00:00,  7.50it/s]\n"
     ]
    }
   ],
   "source": [
    "for ticker in tqdm(tickers_list):\n",
    "    info = data[ticker]\n",
    "\n",
    "    sma20 = info['Close'].rolling(window=20).mean()\n",
    "    sma50 = info['Close'].rolling(window=50).mean()\n",
    "    sma200 = info['Close'].rolling(window=200).mean()\n",
    "    fig = plt.figure(figsize=(20, 10), dpi=80, facecolor='w', edgecolor='k')\n",
    "    plt.plot(info['Close'], 'k', label='Close' )\n",
    "    plt.plot(sma20, 'g', label='SMA20')\n",
    "    plt.plot(sma50, 'b', label='SMA50')\n",
    "    plt.plot(sma200, 'r', label='SMA200')\n",
    "    plt.title('Close price of '+ticker)\n",
    "    plt.xlabel('Date')\n",
    "    plt.ylabel('Price')\n",
    "    plt.grid()\n",
    "    plt.legend()\n",
    "    img_filename = image_path+ticker+png_ext\n",
    "    plt.savefig(img_filename)\n",
    "    # print('save figure', img_filename)\n",
    "    plt.close()\n"
   ]
  },
  {
   "cell_type": "markdown",
   "metadata": {},
   "source": [
    "## function to check select the ticker of not \n",
    "\n",
    "Conditions are :\n",
    "- closing price at index2 > closing price at index 1,\n",
    "- SMA20 at index2 > SMA20 at index 1,\n",
    "- SMA50 at index2 > SMA50 at index 1,\n",
    "- SMA200 at index2 > SMA200 at index 1.\n",
    "\n",
    "returns False or True."
   ]
  },
  {
   "cell_type": "code",
   "execution_count": null,
   "metadata": {},
   "outputs": [],
   "source": [
    "def is_ticker_up(info,index1,index2):\n",
    "    sma20 = info['Close'].rolling(window=20).mean()\n",
    "    sma50 = info['Close'].rolling(window=50).mean()\n",
    "    sma200 = info['Close'].rolling(window=200).mean()\n",
    "\n",
    "    close_up = True if info['Close'][index1] < info['Close'][index2] else False\n",
    "    sma20_up = True if sma20[index1] < sma20[index2] else False\n",
    "    sma50_up = True if sma50[index1] < sma50[index2] else False\n",
    "    sma200_up = True if sma200[index1] < sma200[index2] else False\n",
    "\n",
    "    return close_up and sma20_up and sma50_up and sma200_up\n",
    "\n",
    "\n",
    "# test with AAPL\n",
    "info = data['AAPL']\n",
    "print('is_ticker_up 12 month', is_ticker_up(info,index_12m,index_now))\n",
    "print('is_ticker_up 6 month', is_ticker_up(info, index_6m, index_now))\n",
    "print('is_ticker_up 3 month', is_ticker_up(info, index_3m, index_now))\n",
    "print('is_ticker_up 1 month', is_ticker_up(info,index_1m,index_now))"
   ]
  },
  {
   "cell_type": "code",
   "execution_count": null,
   "metadata": {},
   "outputs": [],
   "source": [
    "for ticker in tickers_list:\n",
    "\n",
    "    info = data[ticker]\n",
    "    \n",
    "    # if info['Close'][-1] > max_price and info['Close'][-1] < min_price:\n",
    "    if max_price < info['Close'][-1] < min_price:\n",
    "        continue\n",
    "    \n",
    "    sma20 = info['Close'].rolling(window=20).mean()\n",
    "    sma50 = info['Close'].rolling(window=50).mean()\n",
    "    sma200 = info['Close'].rolling(window=200).mean()\n",
    "    try:\n",
    "        up12m=is_ticker_up(info, index_12m, index_now)\n",
    "        up6m = is_ticker_up(info, index_6m, index_now)\n",
    "        up3m = is_ticker_up(info, index_3m, index_now)\n",
    "        up1m = is_ticker_up(info, index_1m, index_now)\n",
    "        if up1m and up3m and up6m and up12m:\n",
    "            \n",
    "            # annualized volatility computation\n",
    "            TRADING_DAYS = 252\n",
    "            returns = np.log(info['Close']/info['Close'].shift(1))\n",
    "            returns.fillna(0, inplace=True)\n",
    "            volatility_1y = returns.rolling(\n",
    "                window=TRADING_DAYS).std()*np.sqrt(TRADING_DAYS)\n",
    "\n",
    "\n",
    "            fig, ax_left = plt.subplots(nrows=1, ncols=1, figsize=(20, 10), dpi=80,\n",
    "                                facecolor='w', edgecolor='k')\n",
    "\n",
    "            ax_left.plot(info['Close'], 'k', label='Close')\n",
    "            ax_left.plot(sma20, 'g', label='SMA20')\n",
    "            ax_left.plot(sma50, 'b', label='SMA50')\n",
    "            ax_left.plot(sma200, 'r', label='SMA200')\n",
    "            ax_left.set_title(ticker)\n",
    "            ax_left.set_ylabel('Price')\n",
    "            ax_left.set_xlim(info.index[0], info.index[-1])\n",
    "            ax_left.grid()\n",
    "            ax_left.legend()\n",
    "            \n",
    "            ax_right = ax_left.twinx()\n",
    "            ax_right.plot(volatility_1y, 'm-.', label='annualized volatility')\n",
    "            ax_right.set_xlabel('Date')\n",
    "            ax_right.set_ylabel('Volatility')\n",
    "            ax_right.set_xlim(info.index[0], info.index[-1])\n",
    "            ax_right.set_ylim(0, .6)\n",
    "            ax_right.grid()\n",
    "            ax_right.tick_params(axis='y', labelcolor='m')\n",
    "            ax_right.legend()\n",
    "            plt.show()\n",
    "\n",
    "    except:\n",
    "        pass\n"
   ]
  }
 ],
 "metadata": {
  "kernelspec": {
   "display_name": "invest",
   "language": "python",
   "name": "python3"
  },
  "language_info": {
   "codemirror_mode": {
    "name": "ipython",
    "version": 3
   },
   "file_extension": ".py",
   "mimetype": "text/x-python",
   "name": "python",
   "nbconvert_exporter": "python",
   "pygments_lexer": "ipython3",
   "version": "3.9.13"
  },
  "orig_nbformat": 4
 },
 "nbformat": 4,
 "nbformat_minor": 2
}
